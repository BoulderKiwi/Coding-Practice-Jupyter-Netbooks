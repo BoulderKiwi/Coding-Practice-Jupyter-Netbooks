{
 "cells": [
  {
   "cell_type": "code",
   "execution_count": 40,
   "metadata": {
    "collapsed": true
   },
   "outputs": [],
   "source": [
    "class Classy(object):\n",
    "    def __init__(self):\n",
    "        self.items = []\n",
    "        \n",
    "    def addItem(self,x):\n",
    "        self.items.append(x)\n",
    "        \n",
    "    def getClassiness(self):\n",
    "        output = 0\n",
    "        if len(self.items)>0:\n",
    "            for x in self.items: \n",
    "                if x == \"tophat\":\n",
    "                    output += 2\n",
    "                elif x == \"bowtie\":\n",
    "                    output += 4 \n",
    "                elif x == \"monocle\":\n",
    "                    output += 5\n",
    "                else:\n",
    "                    output = 0\n",
    "        return output \n",
    "    "
   ]
  }
 ],
 "metadata": {
  "anaconda-cloud": {},
  "kernelspec": {
   "display_name": "Python [conda env:py27]",
   "language": "python",
   "name": "conda-env-py27-py"
  },
  "language_info": {
   "codemirror_mode": {
    "name": "ipython",
    "version": 2
   },
   "file_extension": ".py",
   "mimetype": "text/x-python",
   "name": "python",
   "nbconvert_exporter": "python",
   "pygments_lexer": "ipython2",
   "version": "2.7.12"
  }
 },
 "nbformat": 4,
 "nbformat_minor": 1
}
